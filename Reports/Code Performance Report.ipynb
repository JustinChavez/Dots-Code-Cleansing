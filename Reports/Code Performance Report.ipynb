{
 "cells": [
  {
   "cell_type": "markdown",
   "metadata": {},
   "source": [
    "# Run time of Code"
   ]
  },
  {
   "cell_type": "markdown",
   "metadata": {},
   "source": [
    "I found a built-in method of recording frame time execution within dotsDrawable. This is more accurate than my implementation of frame recording that I presented before.\n",
    "\n",
    "Below is an example of 95 trials of a requested 1 second length with my current code adjustments (QUEST prototype + consistant frame execution)"
   ]
  },
  {
   "cell_type": "markdown",
   "metadata": {},
   "source": [
    "fig1\n",
    "![fig1](fig1.png \"fig1\")"
   ]
  },
  {
   "cell_type": "markdown",
   "metadata": {},
   "source": [
    "Unfortunately, some trials finished prematurely (30% of trials ended between .985 and 1 second).\n",
    "\n",
    "I also graphed the consitency of frame executions. The first plot (fig2) shows all 95 trials and their trajectory through frame and time space. The second shows the standard deviation of each frame. "
   ]
  },
  {
   "cell_type": "markdown",
   "metadata": {},
   "source": [
    "fig2\n",
    "![fig2](fig2.png \"fig2\")"
   ]
  },
  {
   "cell_type": "markdown",
   "metadata": {},
   "source": [
    "fig3\n",
    "![fig3](fig3.png \"fig3\")"
   ]
  },
  {
   "cell_type": "markdown",
   "metadata": {},
   "source": [
    "As we can see in these figures, the coherence in frame execution initially stabilizes to a standard deviation of ~.005 seconds. It only raises around frame 26 (highlighted by the first red tick) due to one trial's deviation by executing frames quicker. This happens again in frame 33 (second red tick mark). These 2/95 trials cause the standard deviation of frame execution to rise around ~.006 seconds."
   ]
  },
  {
   "cell_type": "markdown",
   "metadata": {},
   "source": [
    "# Comparison to Standard"
   ]
  },
  {
   "cell_type": "markdown",
   "metadata": {},
   "source": [
    "In order to get an idea for how optimal my code should run, I compared the runtime performance with that of Chris Glaze's production quality \"TAFC Dots Reversal Code\" Provided by Kyra.\n",
    "\n",
    "The following plots compare the data from my code in fig2 and fig3 with Chris Glaze's.\n",
    "\n",
    "* Blue denotes my code\n",
    "* Purple denotes Glaze's code\n",
    "\n"
   ]
  },
  {
   "cell_type": "markdown",
   "metadata": {},
   "source": [
    "fig4\n",
    "![fig4](fig4.png \"fig4\")"
   ]
  },
  {
   "cell_type": "markdown",
   "metadata": {},
   "source": [
    "fig5\n",
    "![fig5](fig5.png \"fig5\")"
   ]
  },
  {
   "cell_type": "markdown",
   "metadata": {},
   "source": [
    "In comparison to Chris Glaze's code, my code implements a consistent frame execution (61 fps for all 100 trials) neccesary for a standard linear drop in coherence across all trials. The cost of this implementation is an increased standard deviation of frame executions by ~.003 seconds (as seen in fig 5) and 30% of trials finishing prematurely.\n",
    "\n",
    "Particularly, most of the standard deviation differences are due to a handful of frames executing quicker or slower than normal. This can be visually seen in fig1. If we graph the show time of each frame we get the following plot.\n",
    "\n",
    "* Blue denotes my code\n",
    "* Purple denotes Glaze's code\n"
   ]
  },
  {
   "cell_type": "markdown",
   "metadata": {},
   "source": [
    "fig6\n",
    "![fig6](fig6.png \"fig6\")"
   ]
  },
  {
   "cell_type": "markdown",
   "metadata": {},
   "source": [
    "Both performances show a similar mean frame draw time converging around 0.0165 seconds. This is accurate with what is expected as for a 61 fps monitor, each frame should expect to be drawn/shown for 0.0164 seconds. \n",
    "\n",
    "Thus while the standard deviation of my code's frame execution is higher across all trials and frames, most of the frames execute for the same duration as Chris Glaze's production quality code."
   ]
  },
  {
   "cell_type": "markdown",
   "metadata": {},
   "source": [
    "# Moving Forward"
   ]
  },
  {
   "cell_type": "markdown",
   "metadata": {},
   "source": [
    "Due to how comparable my code performance is to that of Chris Glaze's, my suggestion is to move forward from code optimization and finalize experimental paradigms (QUEST accuracy and implementation, length of linear drop and view time) to advance toward initial human trials with members of the lab. \n",
    "\n",
    "My intuition is that any errors in the modeling that result from the deviation of consistent frame executions in each trial (fig5) can be mended through post-trial cleansing. For example, in Glaze et al. (2015), actual-time steps were calculated by taking into account the monitor refresh rate of the computer. I am also able to determine actual time steps from the data that dotsDrawable is recording.\n",
    "\n",
    "In terms of model accuracy, being able to work through the analysis of initial trial results from lab members would help me build an intuition into what parts of the code to optimize in order to generate more consistent data for modeling."
   ]
  }
 ],
 "metadata": {
  "anaconda-cloud": {},
  "kernelspec": {
   "display_name": "Python [Root]",
   "language": "python",
   "name": "Python [Root]"
  },
  "language_info": {
   "codemirror_mode": {
    "name": "ipython",
    "version": 2
   },
   "file_extension": ".py",
   "mimetype": "text/x-python",
   "name": "python",
   "nbconvert_exporter": "python",
   "pygments_lexer": "ipython2",
   "version": "2.7.13"
  }
 },
 "nbformat": 4,
 "nbformat_minor": 0
}
